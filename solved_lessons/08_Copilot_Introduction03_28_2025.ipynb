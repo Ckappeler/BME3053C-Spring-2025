{
 "cells": [
  {
   "cell_type": "markdown",
   "metadata": {},
   "source": [
    "# BME3053C - Computer Applications for BME\n",
    "\n",
    "<br/>\n",
    "\n",
    "<h1 align=\"center\">GitHub Copilot Introduction</h1>\n",
    "\n",
    "---\n",
    "\n",
    "<center><h2>Introduction to AI-Assisted Programming</h2></center>\n",
    "\n",
    "<br/>"
   ]
  },
  {
   "cell_type": "markdown",
   "metadata": {},
   "source": [
    "# What is GitHub Copilot?\n",
    "\n",
    "GitHub Copilot is an AI pair programmer that helps you write code faster and with less effort. It works by:\n",
    "\n",
    "- Suggesting whole lines or blocks of code as you type\n",
    "- Converting comments into working code\n",
    "- Helping you understand and work with unfamiliar libraries\n",
    "- Offering multiple suggestions for you to choose from\n",
    "- Learning from your coding style and preferences\n",
    "\n",
    "# Getting Started with Copilot\n",
    "\n",
    "1. **Access Copilot through GitHub Student Developer Pack**:\n",
    "   - Sign up for the [GitHub Student Developer Pack](https://education.github.com/pack)\n",
    "   - Once approved, activate your free Copilot subscription\n",
    "\n",
    "2. **Install Copilot in Your Development Environment**:\n",
    "   - VS Code: Install the \"GitHub Copilot\" extension\n",
    "   - GitHub Codespaces: Copilot is available by default\n",
    "   - JupyterLab: Install the Copilot extension\n",
    "\n",
    "3. **Verify Installation**:\n",
    "   - Look for the Copilot icon in your editor's status bar\n",
    "   - The icon should be active (not grayed out)\n",
    "   - You might need to sign in to GitHub to activate Copilot"
   ]
  },
  {
   "cell_type": "markdown",
   "metadata": {},
   "source": [
    "# Switching AI Models in Copilot\n",
    "\n",
    "GitHub Copilot offers different AI models to help with various coding tasks. Here's how to switch between them:\n",
    "\n",
    "## Available Models\n",
    "\n",
    "- **Default (GPT-3.5 Turbo)**: The standard model for general coding assistance\n",
    "- **GPT-4**: More powerful model with enhanced code understanding and generation capabilities\n",
    "- **Copilot Chat**: Conversational interface for complex queries and explanations\n",
    "\n",
    "## How to Switch Models\n",
    "\n",
    "1. **In VS Code**:\n",
    "    - Click on the Copilot icon in the status bar\n",
    "    - Select \"GitHub Copilot: Switch Model\"\n",
    "    - Choose your preferred model from the dropdown menu\n",
    "\n",
    "2. **Using Command Palette**:\n",
    "    - Press `Ctrl+Shift+P` (Windows/Linux) or `Cmd+Shift+P` (Mac)\n",
    "    - Type \"GitHub Copilot: Switch Model\"\n",
    "    - Select the desired model\n",
    "\n",
    "3. **In Copilot Chat**:\n",
    "    - Type `/model` followed by the model name\n",
    "    - Example: `/model gpt-4`\n",
    "\n",
    "## When to Use Different Models\n",
    "\n",
    "- **Default Model**: Everyday coding tasks, quick suggestions\n",
    "- **GPT-4**: Complex algorithms, thorough code explanations, challenging problems\n",
    "- **Specialized Models**: Domain-specific coding (when available)\n",
    "\n",
    "Remember that more powerful models might be slower to respond or have usage limitations based on your subscription plan."
   ]
  },
  {
   "cell_type": "markdown",
   "metadata": {},
   "source": [
    "# Basic Usage\n",
    "\n",
    "## 1. Code Completion\n",
    "\n",
    "Copilot provides suggestions as you type. Let's try some examples:\n",
    "\n",
    "1. Start typing a function definition:\n",
    "```python\n",
    "def calculate_bmi(weight, height):\n",
    "    # Calculate BMI using weight in kg and height in meters\n",
    "```\n",
    "\n",
    "2. Copilot will suggest the implementation. Press Tab to accept or keep typing for different suggestions."
   ]
  },
  {
   "cell_type": "code",
   "execution_count": 2,
   "metadata": {},
   "outputs": [
    {
     "ename": "KeyboardInterrupt",
     "evalue": "",
     "output_type": "error",
     "traceback": [
      "\u001b[31m---------------------------------------------------------------------------\u001b[39m",
      "\u001b[31mKeyboardInterrupt\u001b[39m                         Traceback (most recent call last)",
      "\u001b[36mCell\u001b[39m\u001b[36m \u001b[39m\u001b[32mIn[2]\u001b[39m\u001b[32m, line 1\u001b[39m\n\u001b[32m----> \u001b[39m\u001b[32m1\u001b[39m \u001b[38;5;28;01mdef\u001b[39;00m\u001b[38;5;250m \u001b[39m\u001b[34mcalculate_bmi\u001b[39m(weight, height):\n\u001b[32m      2\u001b[39m     \u001b[38;5;66;03m# Calculate BMI using weight in kg and height in meters\u001b[39;00m\n\u001b[32m      3\u001b[39m     \u001b[38;5;28;01mif\u001b[39;00m height <= \u001b[32m0\u001b[39m:\n\u001b[32m      4\u001b[39m         \u001b[38;5;28;01mraise\u001b[39;00m \u001b[38;5;167;01mValueError\u001b[39;00m(\u001b[33m\"\u001b[39m\u001b[33mHeight must be greater than zero.\u001b[39m\u001b[33m\"\u001b[39m)\n",
      "\u001b[36mFile \u001b[39m\u001b[32m<stringsource>:69\u001b[39m, in \u001b[36mcfunc.to_py.__Pyx_CFunc_b0409f__29_pydevd_sys_monitoring_cython_object__lParen__etc_to_py_4code_4line.wrap\u001b[39m\u001b[34m()\u001b[39m\n",
      "\u001b[36mFile \u001b[39m\u001b[32m_pydevd_sys_monitoring\\\\_pydevd_sys_monitoring_cython.pyx:1470\u001b[39m, in \u001b[36m_pydevd_sys_monitoring_cython._line_event\u001b[39m\u001b[34m()\u001b[39m\n",
      "\u001b[36mFile \u001b[39m\u001b[32m_pydevd_sys_monitoring\\\\_pydevd_sys_monitoring_cython.pyx:1512\u001b[39m, in \u001b[36m_pydevd_sys_monitoring_cython._internal_line_event\u001b[39m\u001b[34m()\u001b[39m\n",
      "\u001b[36mFile \u001b[39m\u001b[32m_pydevd_sys_monitoring\\\\_pydevd_sys_monitoring_cython.pyx:1313\u001b[39m, in \u001b[36m_pydevd_sys_monitoring_cython._stop_on_breakpoint\u001b[39m\u001b[34m()\u001b[39m\n",
      "\u001b[36mFile \u001b[39m\u001b[32m_pydevd_sys_monitoring\\\\_pydevd_sys_monitoring_cython.pyx:1950\u001b[39m, in \u001b[36m_pydevd_sys_monitoring_cython._do_wait_suspend\u001b[39m\u001b[34m()\u001b[39m\n",
      "\u001b[36mFile \u001b[39m\u001b[32m~/.local/lib/python3.12/site-packages/debugpy/_vendored/pydevd/pydevd.py:2188\u001b[39m, in \u001b[36mPyDB.do_wait_suspend\u001b[39m\u001b[34m(self, thread, frame, event, arg, exception_type)\u001b[39m\n\u001b[32m   2185\u001b[39m             from_this_thread.append(frame_custom_thread_id)\n\u001b[32m   2187\u001b[39m     \u001b[38;5;28;01mwith\u001b[39;00m \u001b[38;5;28mself\u001b[39m._threads_suspended_single_notification.notify_thread_suspended(thread_id, thread, stop_reason):\n\u001b[32m-> \u001b[39m\u001b[32m2188\u001b[39m         keep_suspended = \u001b[38;5;28;43mself\u001b[39;49m\u001b[43m.\u001b[49m\u001b[43m_do_wait_suspend\u001b[49m\u001b[43m(\u001b[49m\u001b[43mthread\u001b[49m\u001b[43m,\u001b[49m\u001b[43m \u001b[49m\u001b[43mframe\u001b[49m\u001b[43m,\u001b[49m\u001b[43m \u001b[49m\u001b[43mevent\u001b[49m\u001b[43m,\u001b[49m\u001b[43m \u001b[49m\u001b[43marg\u001b[49m\u001b[43m,\u001b[49m\u001b[43m \u001b[49m\u001b[43mtrace_suspend_type\u001b[49m\u001b[43m,\u001b[49m\u001b[43m \u001b[49m\u001b[43mfrom_this_thread\u001b[49m\u001b[43m,\u001b[49m\u001b[43m \u001b[49m\u001b[43mframes_tracker\u001b[49m\u001b[43m)\u001b[49m\n\u001b[32m   2190\u001b[39m frames_list = \u001b[38;5;28;01mNone\u001b[39;00m\n\u001b[32m   2192\u001b[39m \u001b[38;5;28;01mif\u001b[39;00m keep_suspended:\n\u001b[32m   2193\u001b[39m     \u001b[38;5;66;03m# This means that we should pause again after a set next statement.\u001b[39;00m\n",
      "\u001b[36mFile \u001b[39m\u001b[32m~/.local/lib/python3.12/site-packages/debugpy/_vendored/pydevd/pydevd.py:2257\u001b[39m, in \u001b[36mPyDB._do_wait_suspend\u001b[39m\u001b[34m(self, thread, frame, event, arg, trace_suspend_type, from_this_thread, frames_tracker)\u001b[39m\n\u001b[32m   2254\u001b[39m                 queue.put(internal_cmd)\n\u001b[32m   2255\u001b[39m                 wait_timeout = TIMEOUT_FAST\n\u001b[32m-> \u001b[39m\u001b[32m2257\u001b[39m         \u001b[43mnotify_event\u001b[49m\u001b[43m.\u001b[49m\u001b[43mwait\u001b[49m\u001b[43m(\u001b[49m\u001b[43mwait_timeout\u001b[49m\u001b[43m)\u001b[49m\n\u001b[32m   2258\u001b[39m         notify_event.clear()\n\u001b[32m   2260\u001b[39m \u001b[38;5;28;01mfinally\u001b[39;00m:\n",
      "\u001b[36mFile \u001b[39m\u001b[32m~/.python/current/lib/python3.12/threading.py:655\u001b[39m, in \u001b[36mEvent.wait\u001b[39m\u001b[34m(self, timeout)\u001b[39m\n\u001b[32m    653\u001b[39m signaled = \u001b[38;5;28mself\u001b[39m._flag\n\u001b[32m    654\u001b[39m \u001b[38;5;28;01mif\u001b[39;00m \u001b[38;5;129;01mnot\u001b[39;00m signaled:\n\u001b[32m--> \u001b[39m\u001b[32m655\u001b[39m     signaled = \u001b[38;5;28;43mself\u001b[39;49m\u001b[43m.\u001b[49m\u001b[43m_cond\u001b[49m\u001b[43m.\u001b[49m\u001b[43mwait\u001b[49m\u001b[43m(\u001b[49m\u001b[43mtimeout\u001b[49m\u001b[43m)\u001b[49m\n\u001b[32m    656\u001b[39m \u001b[38;5;28;01mreturn\u001b[39;00m signaled\n",
      "\u001b[36mFile \u001b[39m\u001b[32m~/.python/current/lib/python3.12/threading.py:359\u001b[39m, in \u001b[36mCondition.wait\u001b[39m\u001b[34m(self, timeout)\u001b[39m\n\u001b[32m    357\u001b[39m \u001b[38;5;28;01melse\u001b[39;00m:\n\u001b[32m    358\u001b[39m     \u001b[38;5;28;01mif\u001b[39;00m timeout > \u001b[32m0\u001b[39m:\n\u001b[32m--> \u001b[39m\u001b[32m359\u001b[39m         gotit = \u001b[43mwaiter\u001b[49m\u001b[43m.\u001b[49m\u001b[43macquire\u001b[49m\u001b[43m(\u001b[49m\u001b[38;5;28;43;01mTrue\u001b[39;49;00m\u001b[43m,\u001b[49m\u001b[43m \u001b[49m\u001b[43mtimeout\u001b[49m\u001b[43m)\u001b[49m\n\u001b[32m    360\u001b[39m     \u001b[38;5;28;01melse\u001b[39;00m:\n\u001b[32m    361\u001b[39m         gotit = waiter.acquire(\u001b[38;5;28;01mFalse\u001b[39;00m)\n",
      "\u001b[31mKeyboardInterrupt\u001b[39m: "
     ]
    }
   ],
   "source": [
    "def calculate_bmi(weight, height):\n",
    "    # Calculate BMI using weight in kg and height in meters\n",
    "    if height <= 0:\n",
    "        raise ValueError(\"Height must be greater than zero.\")\n",
    "    if weight <= 0: \n",
    "        raise ValueError(\"Weight must be greater than zero.\")\n",
    "    bmi = weight / (height ** 2)\n",
    "    return round(bmi, 2)\n",
    "\n",
    "def main():\n",
    "    try:\n",
    "        weight = float(input(\"Enter your weight in kilograms: \"))\n",
    "        height = float(input(\"Enter your height in meters: \"))\n",
    "        bmi = calculate_bmi(weight, height)\n",
    "        print(f\"Your BMI is: {bmi}\")\n",
    "    except ValueError as e:\n",
    "        print(f\"Error: {e}\")\n",
    "if __name__ == \"__main__\":\n",
    "    main()"
   ]
  },
  {
   "cell_type": "markdown",
   "metadata": {},
   "source": [
    "## 2. Comment-to-Code\n",
    "\n",
    "One of Copilot's most powerful features is generating code from comments:\n"
   ]
  },
  {
   "cell_type": "code",
   "execution_count": 1,
   "metadata": {},
   "outputs": [
    {
     "name": "stdout",
     "output_type": "stream",
     "text": [
      "Temperature in Fahrenheit is: 122.0\n"
     ]
    }
   ],
   "source": [
    "# Create a function that converts temperature from Celsius to Fahrenheit\n",
    "# Include input validation and round to 2 decimal places\n",
    "\n",
    "# Try typing this comment and let Copilot suggest the implementation\n",
    "def celsius_to_fahrenheit(celsius):\n",
    "    if celsius < -273.15:\n",
    "        raise ValueError(\"Temperature cannot be below absolute zero.\")\n",
    "    fahrenheit = (celsius * 9/5) + 32\n",
    "    return round(fahrenheit, 2)\n",
    "def main_temp():    \n",
    "    try:\n",
    "        celsius = float(input(\"Enter temperature in Celsius: \"))\n",
    "        fahrenheit = celsius_to_fahrenheit(celsius)\n",
    "        print(f\"Temperature in Fahrenheit is: {fahrenheit}\")\n",
    "    except ValueError as e:\n",
    "        print(f\"Error: {e}\")\n",
    "if __name__ == \"__main__\":\n",
    "    main_temp()"
   ]
  },
  {
   "cell_type": "markdown",
   "metadata": {},
   "source": [
    "## 3. Working with Libraries\n",
    "\n",
    "Copilot is particularly helpful when working with libraries. It can suggest proper import statements and usage patterns:"
   ]
  },
  {
   "cell_type": "code",
   "execution_count": 6,
   "metadata": {},
   "outputs": [
    {
     "data": {
      "image/png": "[encoded data removed]",
      "text/plain": [
       "<Figure size 640x480 with 1 Axes>"
      ]
     },
     "metadata": {},
     "output_type": "display_data"
    }
   ],
   "source": [
    "import matplotlib.pyplot as plt\n",
    "import numpy as np      \n",
    "\n",
    "# Generate random data\n",
    "np.random.seed(0)\n",
    "x = np.random.rand(50) * 10\n",
    "y = np.random.rand(50) * 10\n",
    "\n",
    "# Custom colors based on point values   \n",
    "colors = np.where(y > 5, 'red', 'blue')\n",
    "\n",
    "# Create scatter plot\n",
    "plt.scatter(x, y, c=colors, alpha=0.5, label='Data Points')\n",
    "\n",
    "# Fit a trend line\n",
    "z = np.polyfit(x, y, 1) # 1st degree polynomial (linear)\n",
    "p = np.poly1d(z)\n",
    "plt.plot(x, p(x), color='green', label='Trend Line')\n",
    "\n",
    "# Add labels and title\n",
    "plt.xlabel('X-axis Label')\n",
    "plt.ylabel('Y-axis Label')\n",
    "plt.title('Scatter Plot with Trend Line')\n",
    "\n",
    "# Add a legend\n",
    "plt.legend()\n",
    "\n",
    "# Show grid lines\n",
    "plt.grid(True)\n",
    "\n",
    "# Show the plot\n",
    "plt.show()"
   ]
  },
  {
   "cell_type": "markdown",
   "metadata": {},
   "source": [
    "## 4. Keyboard Shortcuts for Copilot\n",
    "\n",
    "Here are all the keyboard shortcuts to enhance your productivity with Copilot:\n",
    "\n",
    "### General Shortcuts\n",
    "- **Accept Suggestion**: Press `Tab` to accept the current suggestion.\n",
    "- **Reject Suggestion**: Press `Esc` to dismiss the suggestion.\n",
    "- **Trigger Suggestion**: Press `Ctrl + Space` (Windows/Linux) or `Cmd + Space` (Mac) to manually trigger Copilot suggestions.\n",
    "\n",
    "### Navigating Suggestions\n",
    "- **Cycle Through Suggestions**:\n",
    "    - Press `Alt + ]` (Windows/Linux) or `Option + ]` (Mac) to see the next suggestion.\n",
    "    - Press `Alt + [` (Windows/Linux) or `Option + [` (Mac) to go back to the previous suggestion.\n",
    "\n",
    "### Copilot Panel\n",
    "- **Open Copilot Panel**: Press `Ctrl + Enter` (Windows/Linux) or `Cmd + Enter` (Mac) to open the Copilot panel for more suggestions.\n",
    "\n",
    "### Inline Suggestions\n",
    "- **Show Next Inline Suggestion**: Press `Alt + \\` (Windows/Linux) or `Option + \\` (Mac).\n",
    "- **Show Previous Inline Suggestion**: Press `Alt + Shift + \\` (Windows/Linux) or `Option + Shift + \\` (Mac).\n",
    "\n",
    "### Dismiss Suggestions\n",
    "- **Dismiss Inline Suggestion**: Press `Esc`.\n",
    "\n",
    "### Ghost Text\n",
    "- **Accept Word**: Press `Ctrl + Right Arrow` (Windows/Linux) or `Cmd + Right Arrow` (Mac) to accept one word at a time.\n",
    "- **Accept Line**: Press `Ctrl + End` (Windows/Linux) or `Cmd + End` (Mac) to accept the rest of the line.\n",
    "\n",
    "### Chat Features\n",
    "- **Open Copilot Chat**: Press `Ctrl + Shift + I` (Windows/Linux) or `Cmd + Shift + I` (Mac).\n",
    "- **Send Message in Chat**: Press `Shift + Enter` or click the send button.\n",
    "\n",
    "These shortcuts can help you navigate and utilize Copilot more effectively while coding."
   ]
  },
  {
   "cell_type": "markdown",
   "metadata": {},
   "source": [
    "\n",
    "## 5. Whole File Generation\n",
    "\n",
    "Copilot can generate entire files based on a description. Start with a detailed comment at the top of the file:\n",
    "```python\n",
    "# Create a FastAPI application that:\n",
    "# 1. Implements a RESTful API for managing patient data\n",
    "# 2. Provides endpoints for adding, retrieving, and updating patient records\n",
    "# 3. Includes data validation and error handling\n",
    "# 4. Implements authentication for secure access\n",
    "# 5. Returns data in JSON format with proper status codes\n",
    "```\n",
    "\n",
    "## 6. Test Generation\n",
    "\n",
    "Copilot can help write tests for your code:"
   ]
  },
  {
   "cell_type": "code",
   "execution_count": null,
   "metadata": {},
   "outputs": [],
   "source": [
    "def calculate_dosage(weight, age, condition):\n",
    "    \"\"\"Calculate medication dosage based on patient parameters.\"\"\"\n",
    "    if weight <= 0 or age < 0:\n",
    "        raise ValueError(\"Weight and age must be positive\")\n",
    "    \n",
    "    base_dosage = weight * 2\n",
    "    if age < 12:\n",
    "        base_dosage *= 0.75\n",
    "    \n",
    "    if condition == \"severe\":\n",
    "        base_dosage *= 1.5\n",
    "    \n",
    "    return round(base_dosage, 2)\n",
    "\n",
    "# Write pytest test cases for the above function\n",
    "# Include tests for normal cases, edge cases, and error conditions"
   ]
  },
  {
   "cell_type": "markdown",
   "metadata": {},
   "source": [
    "# Best Practices\n",
    "\n",
    "1. **Review Generated Code**:\n",
    "   - Always review and understand code before accepting it\n",
    "   - Check for potential security issues\n",
    "   - Verify that the code follows your project's standards\n",
    "\n",
    "2. **Write Clear Comments**:\n",
    "   - Be specific about what you want\n",
    "   - Include important requirements in comments\n",
    "   - Mention edge cases and error handling needs\n",
    "\n",
    "3. **Iterative Refinement**:\n",
    "   - Start with a basic implementation\n",
    "   - Add comments for additional features\n",
    "   - Let Copilot help refactor and improve the code\n",
    "\n"
   ]
  },
  {
   "cell_type": "markdown",
   "metadata": {},
   "source": [
    "### ✏️ Exercise Create a function that processes medical image data:\n",
    "   - Accept a numpy array representing an image\n",
    "   - Apply basic image processing (normalization, filtering)\n",
    "   - Return the processed image\n",
    "   - Include proper error handling"
   ]
  },
  {
   "cell_type": "code",
   "execution_count": null,
   "metadata": {},
   "outputs": [],
   "source": []
  },
  {
   "cell_type": "markdown",
   "metadata": {},
   "source": [
    "\n",
    "### ✏️ Exercise: Write a class for managing patient records\n",
    "   - Include methods for adding, updating, and retrieving records\n",
    "   - Implement data validation\n",
    "   - Add methods for basic statistical analysis"
   ]
  },
  {
   "cell_type": "code",
   "execution_count": null,
   "metadata": {},
   "outputs": [],
   "source": []
  },
  {
   "cell_type": "markdown",
   "metadata": {},
   "source": [
    "### ✏️ Exercise: Create a data visualization dashboard\n",
    "   - Use pandas for data manipulation\n",
    "   - Create multiple types of plots using matplotlib\n",
    "   - Add interactive elements"
   ]
  },
  {
   "cell_type": "code",
   "execution_count": null,
   "metadata": {},
   "outputs": [],
   "source": []
  },
  {
   "cell_type": "markdown",
   "metadata": {},
   "source": [
    "### ✏️ Exercise: Create a Workspace\n",
    "\n",
    "1. Create a new Python file in your workspace.\n",
    "2. Add a comment at the top describing a program to manage a to-do list:\n",
    "   ```python\n",
    "   # Create a program that:\n",
    "   # 1. Allows users to add, view, and delete tasks\n",
    "   # 2. Stores tasks in memory\n",
    "   # 3. Validates input and handles errors gracefully\n",
    "   ```\n",
    "3. Use GitHub Copilot to generate the implementation.\n",
    "4. Test the program by adding, viewing, and deleting tasks.\n",
    "\n",
    "This exercise will help you practice using Copilot to create a functional program from scratch."
   ]
  },
  {
   "cell_type": "markdown",
   "metadata": {},
   "source": [
    "# Conclusion\n",
    "\n",
    "GitHub Copilot is a powerful tool that can significantly enhance your coding productivity. Remember:\n",
    "\n",
    "- It's an assistant, not a replacement for understanding code\n",
    "- Always review and test generated code\n",
    "- Use it to learn new patterns and approaches\n",
    "- Combine it with your own knowledge and creativity\n",
    "\n",
    "As you continue to use Copilot, you'll develop a workflow that helps you write better code more efficiently while maintaining good coding practices."
   ]
  }
 ],
 "metadata": {
  "kernelspec": {
   "display_name": "Python 3",
   "language": "python",
   "name": "python3"
  },
  "language_info": {
   "codemirror_mode": {
    "name": "ipython",
    "version": 3
   },
   "file_extension": ".py",
   "mimetype": "text/x-python",
   "name": "python",
   "nbconvert_exporter": "python",
   "pygments_lexer": "ipython3",
   "version": "3.12.1"
  }
 },
 "nbformat": 4,
 "nbformat_minor": 4
}
